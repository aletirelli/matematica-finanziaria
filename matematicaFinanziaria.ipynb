{
 "cells": [
  {
   "cell_type": "code",
   "execution_count": null,
   "id": "d93fcd6f-c3ca-46ef-93b8-fb8447f64e08",
   "metadata": {},
   "outputs": [],
   "source": [
    "P=0 #patrimonio\n",
    "Inv=0 #capitale investito\n",
    "D = 0 #tasso di ammortamento\n",
    "GI = 0 #reddito lordo\n",
    "OE = 0 #costi operativi"
   ]
  },
  {
   "cell_type": "code",
   "execution_count": null,
   "id": "338b2751-ff19-45fa-a175-4ca4fbe0729f",
   "metadata": {},
   "outputs": [],
   "source": [
    "EBIT = GI-OE #Reddito Operativo Lordo (utile operativo)\n",
    "EBITDA = EBIT-D #Margine Operativo Lordo (guadagno tassabile)\n",
    "TAXES = EBITDA*t #imposte sul reddito\n",
    "NOPLAT = EBIT*(1-t) #utile al netto delle imposte (NetOperatingProfitLessAdjustedTaxes)\n",
    "CRF = 0\n",
    "CRF_1 = CRF*(1-t)+t/N #fattore di recupero del capitale al netto delle imposte\n",
    "\n",
    "S = 0 #che cos'è????\n",
    "A_2 = GI-OE-P+S #flusso di cassa al lordo delle imposte = A\n",
    "A_1 = A_2-t*EBITDA #flusso di cassa al netto delle imposte = A'\n",
    "\n",
    "#CASHFLOW MODELLING\n",
    "H = 5 #durata in anni del prestito\n",
    "Q = 8 #durata in anni dell'ammortamento\n",
    "Ib = 0 #boh\n",
    "# for i in range(0, N):\n",
    "#     if i<H:\n",
    "#         #durante il periodo del prestito 0<H\n",
    "#         A_1(i) = A_2*(1-t)+t*Ib+t*P/Q\n",
    "#     else if H<=i, i<Q:\n",
    "#         #durante il periodo di ammortamento H-Q\n",
    "#         A_1(i) = A_2*(1-t)+t*P/Q\n",
    "#     else\n",
    "#         #per il rimanente periodo di ammortamento\n",
    "#         A_1(i) = A_2(1-t)\n",
    "#bisogna inizializzare array con N valori"
   ]
  },
  {
   "cell_type": "markdown",
   "id": "3b56255b-f419-4b5e-a0e7-2baa99dae15c",
   "metadata": {},
   "source": [
    "#MASCHIO"
   ]
  },
  {
   "cell_type": "code",
   "execution_count": null,
   "id": "0f25c11c-fbc6-4fba-b5c8-35942176a4e8",
   "metadata": {},
   "outputs": [],
   "source": [
    "ROIC=(NOPLAT/P)*100 #Return On Invested Capital\n",
    "\n",
    "#WACC Weighted Average Cost of Capital. QUanto mi costa prendere in prestito i soldi?\n",
    "E=0 #equity, mezzi propri\n",
    "Ke=0.04 #tasso di remunerazione mezzi propri (risk free+market premium+*1.2)\n",
    "D=0 #debito\n",
    "Kd=0.10 #tasso di remunerazione dei debiti finanziari ((risk free+spread)*(1.t))\n",
    "WACC=Ke*E/(E+D)+Kd*D/(E+D)\n",
    "\n",
    "if ROIC>WACC\n",
    "    print('Generazione di valore')\n",
    "else\n",
    "    print('Distruzione di valore')\n",
    "\n",
    "EVA=(ROIC-WACC)*P #Economic Value Added\n",
    "EVA2=EBIT*(1-t)-P*WACC\n",
    "#eva deve essere positivo\n",
    "\n",
    "ROI=NOPLAT/Inv #ritorno sul capitale investito\n",
    "ROE=NOPLAT/P #ritorno sul capitale proprio"
   ]
  },
  {
   "cell_type": "markdown",
   "id": "98bfa579-6600-42ce-971f-69a4ef6d9535",
   "metadata": {},
   "source": [
    "#Valore Attuale Netto - VAN"
   ]
  },
  {
   "cell_type": "code",
   "execution_count": null,
   "id": "b7de4d43-a1f1-4dbe-a256-7ea2295980e3",
   "metadata": {},
   "outputs": [],
   "source": [
    "#creare WACC per ogni anno, quindi con cashflow per ogni anno\n",
    "#VAN=sommatoria(cashflow/(1+WACC(N))^N)\n",
    "\n",
    "#Breakeven point quando VAN=0"
   ]
  }
 ],
 "metadata": {
  "kernelspec": {
   "display_name": "Python 3 (ipykernel)",
   "language": "python",
   "name": "python3"
  },
  "language_info": {
   "codemirror_mode": {
    "name": "ipython",
    "version": 3
   },
   "file_extension": ".py",
   "mimetype": "text/x-python",
   "name": "python",
   "nbconvert_exporter": "python",
   "pygments_lexer": "ipython3",
   "version": "3.10.9"
  }
 },
 "nbformat": 4,
 "nbformat_minor": 5
}
