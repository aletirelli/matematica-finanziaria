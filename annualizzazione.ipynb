{
 "cells": [
  {
   "cell_type": "markdown",
   "id": "8a32a685-7416-4b10-a883-8cee0422495d",
   "metadata": {},
   "source": [
    "# FIXED COMPOUNDING\n",
    "annualizzazione di pagamenti singoli\n",
    "\n",
    "##Calcolo interessi 1\n",
    "data cifra preso in prestito, calolo cifra da restituire"
   ]
  },
  {
   "cell_type": "code",
   "execution_count": null,
   "id": "ba30d98d-ae1c-48e6-a238-18741275b71d",
   "metadata": {
    "jupyter": {
     "source_hidden": true
    },
    "tags": []
   },
   "outputs": [],
   "source": [
    "def fixed_compounding_future():\n",
    "    P=input('Valore attuale: ')\n",
    "    P=int(P)\n",
    "    N=input(\"Anni di durata del prestito: \")\n",
    "    N=int(N)\n",
    "    i_perc=input('Tasso di interesse in percentuale: ')\n",
    "    i_perc=int(i_perc)\n",
    "    i=i_perc/100\n",
    "    Fs = int(P*(1+N*i)) #patrimonio futuro - interesse semplice\n",
    "    Fc = int(P*(1+i)**N) #patrimonio futuro - interesse composto\n",
    "    CA = float((1+i)**N) #single payment compound factor\n",
    "    Ic = int(P*CA-P) #interesse totale sul prestito\n",
    "    CA_Print=CA*10\n",
    "    print('Valore futuro futuro con interesse semplice: ',Fs)\n",
    "    print('Valore futuro con interesse composto: ',Fc)\n",
    "    print('Tasso di interesse composto effettivo: ',CA_Print,'%')\n",
    "    print('Interesse totale sul prestito: ',Ic)"
   ]
  },
  {
   "cell_type": "code",
   "execution_count": null,
   "id": "d2eb285c-40af-4492-a7f9-23d691b44c6d",
   "metadata": {},
   "outputs": [],
   "source": [
    "fixed_compounding_future()"
   ]
  },
  {
   "cell_type": "markdown",
   "id": "71ff9696-9a3f-4556-a1b0-31784b1e8dc6",
   "metadata": {},
   "source": [
    "##Calcolo interessi 2\n",
    "volendo ottenere un valore futuro con un dato rendimento, calcola valore attuale che posso prendere in prestito"
   ]
  },
  {
   "cell_type": "code",
   "execution_count": null,
   "id": "840ae946-8dc0-407c-a33d-007eb38fd523",
   "metadata": {
    "jupyter": {
     "source_hidden": true
    },
    "tags": []
   },
   "outputs": [],
   "source": [
    "def fixed_compounding_present():\n",
    "    N=input(\"Anni di durata dell'investimento\")\n",
    "    N=int(N)\n",
    "    i_perc=input('Tasso di interesse in percentuale')\n",
    "    i_perc=int(i_perc)\n",
    "    i=i_perc/100\n",
    "    FW=input('Somma desiderata')\n",
    "    PW = 1/(1+i)**N #single present worth factor\n",
    "    PW_Print=PW*10\n",
    "    Pc= int(FW*PW) #somma attualizzata\n",
    "    print('Tasso di interesse composto effettivo: ',PW_Print,'%')\n",
    "    print('Somma attualizzata: ',Pc)"
   ]
  },
  {
   "cell_type": "code",
   "execution_count": null,
   "id": "9e8ef575-0f47-44ea-ac67-c261c517fc73",
   "metadata": {},
   "outputs": [],
   "source": [
    "fixed_compounding_present()"
   ]
  },
  {
   "cell_type": "markdown",
   "id": "49a904e2-a8e6-4a38-a45b-c5cbc2a723c4",
   "metadata": {},
   "source": [
    "# DISCRETE COMPOUNDING\n",
    "annualizzazione di flusso di cassa annuale\n",
    "\n",
    "Capital recovery factor: converte somma attuale nell'importo equivalente rimborsato uniformemente in un certo numero di periodi;\n",
    "ovvero guadagni costanti necessari per ripagare cifra presa in prestito"
   ]
  },
  {
   "cell_type": "code",
   "execution_count": null,
   "id": "05403053-fca1-4698-aca2-1e58eb134f20",
   "metadata": {
    "jupyter": {
     "source_hidden": true
    },
    "tags": []
   },
   "outputs": [],
   "source": [
    "def discrete_compounding_capitalRecovery():\n",
    "    P=input('Patrimonio attuale: ')\n",
    "    P=int(P)\n",
    "    N=input(\"Anni di durata dell'investimento: \")\n",
    "    N=int(N)\n",
    "    i_perc=input('Tasso di interesse in percentuale: ')\n",
    "    i_perc=int(i_perc)\n",
    "    i=i_perc/100\n",
    "    CRF = (i*(1+i)**N)/((1+i)**N-1) #capital recovery factor - guadagni annuali \n",
    "    #costanti per ripagare P\n",
    "    CRF_Print=CRF*10\n",
    "    A = int(CRF*P)\n",
    "    print('Capital recovery factor: ',CRF_Print,'%')\n",
    "    print('Entrate annuali necessarie: ', A)"
   ]
  },
  {
   "cell_type": "code",
   "execution_count": null,
   "id": "8e59360e-b0b6-4f7e-bcf2-d20bb8e17edf",
   "metadata": {},
   "outputs": [],
   "source": [
    "discrete_compounding_capitalRecovery()"
   ]
  },
  {
   "cell_type": "markdown",
   "id": "ea05a2b8-bb66-4674-a3af-b5a6fafdae4d",
   "metadata": {},
   "source": [
    "Uniform series present worth: data rendita annuale uniforme, calcola cifra che può essere presa in prestito"
   ]
  },
  {
   "cell_type": "code",
   "execution_count": null,
   "id": "8719df31-b7f9-4f82-9a2b-4875a8e686b0",
   "metadata": {
    "jupyter": {
     "source_hidden": true
    },
    "tags": []
   },
   "outputs": [],
   "source": [
    "def discrete_compounding_presentWorth():\n",
    "    A=input('Conto economico di un anno: ')\n",
    "    A=int(A)\n",
    "    N=input(\"Anni di durata dell'investimento: \")\n",
    "    N=int(N)\n",
    "    i_perc=input('Tasso di interesse in percentuale: ')\n",
    "    i_perc=int(i_perc)\n",
    "    i=i_perc/100\n",
    "    SPW = ((1+i)**N-1)/(i*(1+i)**N) #series present worth factor - dato rendimento \n",
    "    #annuale A trovo P che posso prendere in prestito\n",
    "    P = int(A*SPW)\n",
    "    print('Series present worth factor: ',SPW)\n",
    "    print('Patrimonio iniziale disponibile: ', P)"
   ]
  },
  {
   "cell_type": "code",
   "execution_count": null,
   "id": "4eebac07-05d3-4c8f-88ad-3a2bc9985fdf",
   "metadata": {},
   "outputs": [],
   "source": [
    "discrete_compounding_presentWorth()"
   ]
  },
  {
   "cell_type": "markdown",
   "id": "3a8976db-1b2f-4362-aa33-1238b957a66d",
   "metadata": {},
   "source": [
    "Uniform series compound amount: depositando rendita annuale unforme, ad un certo tasso di interesse, calcolo cifra accumulata"
   ]
  },
  {
   "cell_type": "code",
   "execution_count": null,
   "id": "e072fab2-5381-4919-9b3e-3fe3b9d126b3",
   "metadata": {
    "jupyter": {
     "source_hidden": true
    },
    "tags": []
   },
   "outputs": [],
   "source": [
    "def discrete_compounding_futureWorth():\n",
    "    A=input('Conto economico di un anno: ')\n",
    "    A=int(A)\n",
    "    N=input(\"Anni di durata dell'investimento: \")\n",
    "    N=int(N)\n",
    "    i_perc=input('Tasso di interesse in percentuale: ')\n",
    "    i_perc=int(i_perc)\n",
    "    i=i_perc/100\n",
    "    SCA = (1+i)**N/i #uniform series compound amount factor - dato rendimento \n",
    "    #annuale A trovo F da ripagare futuro\n",
    "    SCA_Print=SCA*10\n",
    "    F = int(A*SCA)\n",
    "    print('Uniform series compound amount factor: ', SCA_Print)\n",
    "    print('Patrimonio futuro ottenibile: ',F)"
   ]
  },
  {
   "cell_type": "code",
   "execution_count": null,
   "id": "11b32f8b-ab24-4d7a-b5c1-cd0b47d8398d",
   "metadata": {},
   "outputs": [],
   "source": [
    "discrete_compounding_futureWorth()"
   ]
  },
  {
   "cell_type": "markdown",
   "id": "a6e58560-c35c-44ef-b474-7cf3dd096bc5",
   "metadata": {},
   "source": [
    "# CALCOLO INFLAZIONE"
   ]
  },
  {
   "cell_type": "code",
   "execution_count": null,
   "id": "ca837ee0-f27c-42e0-8e23-c7a0dd36c4a1",
   "metadata": {
    "jupyter": {
     "source_hidden": true
    },
    "tags": []
   },
   "outputs": [],
   "source": [
    "def inflazione():\n",
    "    N=input(\"Anni: \")\n",
    "    N=int(N)\n",
    "    f_perc=input('Tasso di inflazione in percentuale: ')\n",
    "    f_perc=int(f_perc)\n",
    "    f=f_perc/100\n",
    "    RN=input('Valore attuale: ')\n",
    "    RN=int(RN)\n",
    "    CN = RN*(1+f)**N #valore futuro\n",
    "    CN=int(CN)\n",
    "    print('Valore a ',N,' anni:',CN)"
   ]
  },
  {
   "cell_type": "code",
   "execution_count": null,
   "id": "8fee653d-87df-49cc-84b1-9a2c15ba267a",
   "metadata": {},
   "outputs": [],
   "source": [
    "inflazione()"
   ]
  },
  {
   "cell_type": "markdown",
   "id": "12e7474b-d5fc-47a0-8767-f7b18f495e6a",
   "metadata": {},
   "source": [
    "Tabella annuale"
   ]
  },
  {
   "cell_type": "code",
   "execution_count": null,
   "id": "9ecbccd4-eaa1-46d1-8e6d-9033f7942b6b",
   "metadata": {
    "jupyter": {
     "source_hidden": true
    },
    "tags": []
   },
   "outputs": [],
   "source": [
    "import numpy as np\n",
    "def tabella():\n",
    "    N=input(\"Anni: \")\n",
    "    N=int(N)+1\n",
    "    f_perc=input('Tasso di inflazione in percentuale: ')\n",
    "    f_perc=int(f_perc)\n",
    "    f=f_perc/100\n",
    "    PW=input('Valore attuale: ')\n",
    "    PW=int(PW)\n",
    "    N_vec=[0]*N\n",
    "    FW_vec=[0]*N\n",
    "    PW_vec=[0]*N\n",
    "    for i in range(N):\n",
    "        N_vec[i]=i\n",
    "        FW_vec[i]=PW*(1+f)**N_vec[i]\n",
    "        PW_vec[i]=PW/(1+f)**N_vec[i]\n",
    "        print(int(N_vec[i]), int(FW_vec[i]), int(PW_vec[i]))"
   ]
  },
  {
   "cell_type": "code",
   "execution_count": null,
   "id": "456310f6-e00b-4bd8-bd04-d470ec8fdc2f",
   "metadata": {
    "tags": []
   },
   "outputs": [],
   "source": [
    "tabella()"
   ]
  }
 ],
 "metadata": {
  "kernelspec": {
   "display_name": "Python 3 (ipykernel)",
   "language": "python",
   "name": "python3"
  },
  "language_info": {
   "codemirror_mode": {
    "name": "ipython",
    "version": 3
   },
   "file_extension": ".py",
   "mimetype": "text/x-python",
   "name": "python",
   "nbconvert_exporter": "python",
   "pygments_lexer": "ipython3",
   "version": "3.10.9"
  },
  "toc-showcode": false,
  "toc-showmarkdowntxt": false,
  "toc-showtags": false
 },
 "nbformat": 4,
 "nbformat_minor": 5
}
